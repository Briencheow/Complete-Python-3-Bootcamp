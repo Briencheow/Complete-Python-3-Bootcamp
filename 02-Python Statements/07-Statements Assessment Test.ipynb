{
  "cells": [
    {
      "cell_type": "markdown",
      "metadata": {
        "id": "35FAEC2pXVUy"
      },
      "source": [
        "___\n",
        "\n",
        "<a href='https://www.udemy.com/user/joseportilla/'><img src='https://github.com/Briencheow/Complete-Python-3-Bootcamp/blob/master/Pierian_Data_Logo.png?raw=1'/></a>\n",
        "___\n",
        "<center><em>Content Copyright by Pierian Data</em></center>"
      ]
    },
    {
      "cell_type": "markdown",
      "metadata": {
        "collapsed": true,
        "id": "LWDaX7V5XVU0"
      },
      "source": [
        "# Statements Assessment Test\n",
        "Let's test your knowledge!"
      ]
    },
    {
      "cell_type": "markdown",
      "metadata": {
        "id": "mP2wQ32qXVU0"
      },
      "source": [
        "_____\n",
        "**Use <code>for</code>, .split(), and <code>if</code> to create a Statement that will print out words that start with 's':**"
      ]
    },
    {
      "cell_type": "code",
      "execution_count": 2,
      "metadata": {
        "collapsed": true,
        "id": "Xf4MKUpxXVU1"
      },
      "outputs": [],
      "source": [
        "st = 'Print only the words that start with s in this sentence'"
      ]
    },
    {
      "cell_type": "code",
      "execution_count": 3,
      "metadata": {
        "collapsed": true,
        "id": "vAbLM1BGXVU2",
        "outputId": "a3373db5-5c17-4318-c87f-0681cf979b08",
        "colab": {
          "base_uri": "https://localhost:8080/"
        }
      },
      "outputs": [
        {
          "output_type": "stream",
          "name": "stdout",
          "text": [
            "start\n",
            "s\n",
            "sentence\n"
          ]
        }
      ],
      "source": [
        "#Code here\n",
        "for word in st.split( ):\n",
        "  if word[0].lower() == 's':\n",
        "    print(word)"
      ]
    },
    {
      "cell_type": "markdown",
      "metadata": {
        "id": "HdDSJ_9qXVU2"
      },
      "source": [
        "______\n",
        "**Use range() to print all the even numbers from 0 to 10.**"
      ]
    },
    {
      "cell_type": "code",
      "execution_count": 4,
      "metadata": {
        "collapsed": true,
        "id": "47vE9BC8XVU2",
        "outputId": "8b55fd8e-9519-41a8-a189-aa8f097e937a",
        "colab": {
          "base_uri": "https://localhost:8080/"
        }
      },
      "outputs": [
        {
          "output_type": "stream",
          "name": "stdout",
          "text": [
            "0\n",
            "2\n",
            "4\n",
            "6\n",
            "8\n",
            "10\n"
          ]
        }
      ],
      "source": [
        "#Code Here\n",
        "for _ in range(0,11):\n",
        "  if _%2 ==0:\n",
        "    print(_)"
      ]
    },
    {
      "cell_type": "markdown",
      "metadata": {
        "id": "RCeFLsvYXVU2"
      },
      "source": [
        "___\n",
        "**Use a List Comprehension to create a list of all numbers between 1 and 50 that are divisible by 3.**"
      ]
    },
    {
      "cell_type": "code",
      "execution_count": 6,
      "metadata": {
        "collapsed": true,
        "id": "Z9i9cFu9XVU3",
        "outputId": "84724dba-3d19-4e9a-e912-502eca0a1e97",
        "colab": {
          "base_uri": "https://localhost:8080/"
        }
      },
      "outputs": [
        {
          "output_type": "execute_result",
          "data": {
            "text/plain": [
              "[3, 6, 9, 12, 15, 18, 21, 24, 27, 30, 33, 36, 39, 42, 45, 48]"
            ]
          },
          "metadata": {},
          "execution_count": 6
        }
      ],
      "source": [
        "#Code in this cell\n",
        "[num for num in range(1,51) if num%3 == 0]"
      ]
    },
    {
      "cell_type": "markdown",
      "metadata": {
        "id": "x80WucysXVU3"
      },
      "source": [
        "_____\n",
        "**Go through the string below and if the length of a word is even print \"even!\"**"
      ]
    },
    {
      "cell_type": "code",
      "execution_count": 7,
      "metadata": {
        "collapsed": true,
        "id": "aWsSGexuXVU3"
      },
      "outputs": [],
      "source": [
        "st = 'Print every word in this sentence that has an even number of letters'"
      ]
    },
    {
      "cell_type": "code",
      "execution_count": 8,
      "metadata": {
        "collapsed": true,
        "id": "HWhBgLNrXVU4",
        "outputId": "6699ea74-6014-44b7-c9c8-2e806440a228",
        "colab": {
          "base_uri": "https://localhost:8080/"
        }
      },
      "outputs": [
        {
          "output_type": "stream",
          "name": "stdout",
          "text": [
            "Print\n",
            "every\n",
            "even!\n",
            "even!\n",
            "even!\n",
            "even!\n",
            "even!\n",
            "has\n",
            "even!\n",
            "even!\n",
            "even!\n",
            "even!\n",
            "letters\n"
          ]
        }
      ],
      "source": [
        "#Code in this cell\n",
        "for word in st.split( ):\n",
        "  if len(word)%2 ==0:\n",
        "    print('even!')\n",
        "  else:\n",
        "    print(word)"
      ]
    },
    {
      "cell_type": "markdown",
      "metadata": {
        "id": "KVZR8OYUXVU4"
      },
      "source": [
        "____\n",
        "**Write a program that prints the integers from 1 to 100. But for multiples of three print \"Fizz\" instead of the number, and for the multiples of five print \"Buzz\". For numbers which are multiples of both three and five print \"FizzBuzz\".**"
      ]
    },
    {
      "cell_type": "code",
      "execution_count": 9,
      "metadata": {
        "collapsed": true,
        "id": "cCd87MvjXVU4",
        "outputId": "5b390545-d54a-4ee6-9ef3-0c243a2d57f7",
        "colab": {
          "base_uri": "https://localhost:8080/"
        }
      },
      "outputs": [
        {
          "output_type": "stream",
          "name": "stdout",
          "text": [
            "1\n",
            "2\n",
            "Fizz\n",
            "4\n",
            "Buzz\n",
            "Fizz\n",
            "7\n",
            "8\n",
            "Fizz\n",
            "Buzz\n",
            "11\n",
            "Fizz\n",
            "13\n",
            "14\n",
            "FizzBuzz\n",
            "16\n",
            "17\n",
            "Fizz\n",
            "19\n",
            "Buzz\n",
            "Fizz\n",
            "22\n",
            "23\n",
            "Fizz\n",
            "Buzz\n",
            "26\n",
            "Fizz\n",
            "28\n",
            "29\n",
            "FizzBuzz\n",
            "31\n",
            "32\n",
            "Fizz\n",
            "34\n",
            "Buzz\n",
            "Fizz\n",
            "37\n",
            "38\n",
            "Fizz\n",
            "Buzz\n",
            "41\n",
            "Fizz\n",
            "43\n",
            "44\n",
            "FizzBuzz\n",
            "46\n",
            "47\n",
            "Fizz\n",
            "49\n",
            "Buzz\n",
            "Fizz\n",
            "52\n",
            "53\n",
            "Fizz\n",
            "Buzz\n",
            "56\n",
            "Fizz\n",
            "58\n",
            "59\n",
            "FizzBuzz\n",
            "61\n",
            "62\n",
            "Fizz\n",
            "64\n",
            "Buzz\n",
            "Fizz\n",
            "67\n",
            "68\n",
            "Fizz\n",
            "Buzz\n",
            "71\n",
            "Fizz\n",
            "73\n",
            "74\n",
            "FizzBuzz\n",
            "76\n",
            "77\n",
            "Fizz\n",
            "79\n",
            "Buzz\n",
            "Fizz\n",
            "82\n",
            "83\n",
            "Fizz\n",
            "Buzz\n",
            "86\n",
            "Fizz\n",
            "88\n",
            "89\n",
            "FizzBuzz\n",
            "91\n",
            "92\n",
            "Fizz\n",
            "94\n",
            "Buzz\n",
            "Fizz\n",
            "97\n",
            "98\n",
            "Fizz\n",
            "Buzz\n"
          ]
        }
      ],
      "source": [
        "#Code in this cell\n",
        "for _ in range (1,101):\n",
        "  if _%3==0 and _%5==0:\n",
        "    print('FizzBuzz')\n",
        "  elif _%3 ==0:\n",
        "    print('Fizz')\n",
        "  elif _%5 ==0:\n",
        "    print('Buzz')\n",
        "  else:\n",
        "    print(_)"
      ]
    },
    {
      "cell_type": "markdown",
      "metadata": {
        "id": "rnlm-3NeXVU4"
      },
      "source": [
        "____\n",
        "**Use List Comprehension to create a list of the first letters of every word in the string below:**"
      ]
    },
    {
      "cell_type": "code",
      "execution_count": 12,
      "metadata": {
        "collapsed": true,
        "id": "6v1ygX_6XVU4"
      },
      "outputs": [],
      "source": [
        "st = 'Create a list of the first letters of every word in this string'"
      ]
    },
    {
      "cell_type": "code",
      "execution_count": 14,
      "metadata": {
        "collapsed": true,
        "id": "lnsm_ELhXVU5",
        "outputId": "6061a84e-2cbb-4bab-a34e-92a7a588c557",
        "colab": {
          "base_uri": "https://localhost:8080/"
        }
      },
      "outputs": [
        {
          "output_type": "execute_result",
          "data": {
            "text/plain": [
              "['C', 'a', 'l', 'o', 't', 'f', 'l', 'o', 'e', 'w', 'i', 't', 's']"
            ]
          },
          "metadata": {},
          "execution_count": 14
        }
      ],
      "source": [
        "#Code in this cell\n",
        "[letters[0] for letters in st.split( )]"
      ]
    },
    {
      "cell_type": "markdown",
      "metadata": {
        "id": "DXH-ozu7XVU5"
      },
      "source": [
        "### Great Job!"
      ]
    }
  ],
  "metadata": {
    "kernelspec": {
      "display_name": "Python 3",
      "language": "python",
      "name": "python3"
    },
    "language_info": {
      "codemirror_mode": {
        "name": "ipython",
        "version": 3
      },
      "file_extension": ".py",
      "mimetype": "text/x-python",
      "name": "python",
      "nbconvert_exporter": "python",
      "pygments_lexer": "ipython3",
      "version": "3.6.6"
    },
    "colab": {
      "provenance": []
    }
  },
  "nbformat": 4,
  "nbformat_minor": 0
}