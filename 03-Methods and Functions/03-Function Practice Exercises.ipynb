{
  "cells": [
    {
      "cell_type": "markdown",
      "metadata": {
        "id": "view-in-github",
        "colab_type": "text"
      },
      "source": [
        "<a href=\"https://colab.research.google.com/github/Briencheow/Complete-Python-3-Bootcamp/blob/master/03-Methods%20and%20Functions/03-Function%20Practice%20Exercises.ipynb\" target=\"_parent\"><img src=\"https://colab.research.google.com/assets/colab-badge.svg\" alt=\"Open In Colab\"/></a>"
      ]
    },
    {
      "cell_type": "markdown",
      "metadata": {
        "id": "q94Hgr521kCk"
      },
      "source": [
        "___\n",
        "\n",
        "<a href='https://www.udemy.com/user/joseportilla/'><img src='https://github.com/Briencheow/Complete-Python-3-Bootcamp/blob/master/Pierian_Data_Logo.png?raw=1'/></a>\n",
        "___\n",
        "<center><em>Content Copyright by Pierian Data</em></center>"
      ]
    },
    {
      "cell_type": "markdown",
      "metadata": {
        "id": "HAz0xBd61kCn"
      },
      "source": [
        "# Function Practice Exercises\n",
        "\n",
        "Problems are arranged in increasing difficulty:\n",
        "* Warmup - these can be solved using basic comparisons and methods\n",
        "* Level 1 - these may involve if/then conditional statements and simple methods\n",
        "* Level 2 - these may require iterating over sequences, usually with some kind of loop\n",
        "* Challenging - these will take some creativity to solve"
      ]
    },
    {
      "cell_type": "markdown",
      "metadata": {
        "id": "I__wsiNY1kCn"
      },
      "source": [
        "## WARMUP SECTION:"
      ]
    },
    {
      "cell_type": "markdown",
      "metadata": {
        "id": "r2NkH2YA1kCn"
      },
      "source": [
        "#### LESSER OF TWO EVENS: Write a function that returns the lesser of two given numbers *if* both numbers are even, but returns the greater if one or both numbers are odd\n",
        "    lesser_of_two_evens(2,4) --> 2\n",
        "    lesser_of_two_evens(2,5) --> 5"
      ]
    },
    {
      "cell_type": "code",
      "execution_count": 1,
      "metadata": {
        "collapsed": true,
        "id": "GStIasLf1kCo"
      },
      "outputs": [],
      "source": [
        "def lesser_of_two_evens(a,b):\n",
        "    num = [a,b]\n",
        "    low_num = min(num)\n",
        "    high_num = max(num)\n",
        "\n",
        "    if a%2 == 0 and b%2 == 0:\n",
        "      return low_num\n",
        "    else:\n",
        "      return high_num"
      ]
    },
    {
      "cell_type": "code",
      "execution_count": 2,
      "metadata": {
        "collapsed": true,
        "id": "D9Dizhcg1kCp",
        "outputId": "684bd50f-c901-444d-bc95-c396facf2a0b",
        "colab": {
          "base_uri": "https://localhost:8080/"
        }
      },
      "outputs": [
        {
          "output_type": "execute_result",
          "data": {
            "text/plain": [
              "2"
            ]
          },
          "metadata": {},
          "execution_count": 2
        }
      ],
      "source": [
        "# Check\n",
        "lesser_of_two_evens(2,4)"
      ]
    },
    {
      "cell_type": "code",
      "execution_count": 3,
      "metadata": {
        "collapsed": true,
        "id": "-omhTyBY1kCp",
        "outputId": "d0cd54fe-42a9-4da5-96f8-13c0802808ec",
        "colab": {
          "base_uri": "https://localhost:8080/"
        }
      },
      "outputs": [
        {
          "output_type": "execute_result",
          "data": {
            "text/plain": [
              "5"
            ]
          },
          "metadata": {},
          "execution_count": 3
        }
      ],
      "source": [
        "# Check\n",
        "lesser_of_two_evens(2,5)"
      ]
    },
    {
      "cell_type": "markdown",
      "metadata": {
        "id": "-zNhjxKY1kCp"
      },
      "source": [
        "#### ANIMAL CRACKERS: Write a function takes a two-word string and returns True if both words begin with same letter\n",
        "    animal_crackers('Levelheaded Llama') --> True\n",
        "    animal_crackers('Crazy Kangaroo') --> False"
      ]
    },
    {
      "cell_type": "code",
      "execution_count": 4,
      "metadata": {
        "collapsed": true,
        "id": "4m2cj2aq1kCp"
      },
      "outputs": [],
      "source": [
        "def animal_crackers(text):\n",
        "  first_word, second_word = text.split( )\n",
        "  if first_word[0] == second_word[0]:\n",
        "    return True\n",
        "  else:\n",
        "    return False"
      ]
    },
    {
      "cell_type": "code",
      "execution_count": 5,
      "metadata": {
        "collapsed": true,
        "id": "odBl_j1t1kCq",
        "outputId": "0a3d2b76-2d28-4633-fa71-d662c3186ad1",
        "colab": {
          "base_uri": "https://localhost:8080/"
        }
      },
      "outputs": [
        {
          "output_type": "execute_result",
          "data": {
            "text/plain": [
              "True"
            ]
          },
          "metadata": {},
          "execution_count": 5
        }
      ],
      "source": [
        "# Check\n",
        "animal_crackers('Levelheaded Llama')"
      ]
    },
    {
      "cell_type": "code",
      "execution_count": 6,
      "metadata": {
        "collapsed": true,
        "id": "U_yIH0Wn1kCq",
        "outputId": "9773dafc-ef1f-40f9-d445-fadc21d43036",
        "colab": {
          "base_uri": "https://localhost:8080/"
        }
      },
      "outputs": [
        {
          "output_type": "execute_result",
          "data": {
            "text/plain": [
              "False"
            ]
          },
          "metadata": {},
          "execution_count": 6
        }
      ],
      "source": [
        "# Check\n",
        "animal_crackers('Crazy Kangaroo')"
      ]
    },
    {
      "cell_type": "markdown",
      "metadata": {
        "id": "yI_Th3MC1kCq"
      },
      "source": [
        "#### MAKES TWENTY: Given two integers, return True if the sum of the integers is 20 *or* if one of the integers is 20. If not, return False\n",
        "\n",
        "    makes_twenty(20,10) --> True\n",
        "    makes_twenty(12,8) --> True\n",
        "    makes_twenty(2,3) --> False"
      ]
    },
    {
      "cell_type": "code",
      "execution_count": 7,
      "metadata": {
        "collapsed": true,
        "id": "HnjJfuYU1kCr"
      },
      "outputs": [],
      "source": [
        "def makes_twenty(n1,n2):\n",
        "  list_num = [n1,n2]\n",
        "  if sum(list_num) == 20 or 20 in list_num:\n",
        "    return True\n",
        "  else:\n",
        "    return False"
      ]
    },
    {
      "cell_type": "code",
      "execution_count": 8,
      "metadata": {
        "collapsed": true,
        "id": "dLuYeWT11kCr",
        "outputId": "b55232bd-113d-41a8-a59a-131d0eb36fdc",
        "colab": {
          "base_uri": "https://localhost:8080/"
        }
      },
      "outputs": [
        {
          "output_type": "execute_result",
          "data": {
            "text/plain": [
              "True"
            ]
          },
          "metadata": {},
          "execution_count": 8
        }
      ],
      "source": [
        "# Check\n",
        "makes_twenty(20,10)"
      ]
    },
    {
      "cell_type": "code",
      "execution_count": 9,
      "metadata": {
        "collapsed": true,
        "id": "jynY9RRx1kCs",
        "outputId": "5da07d83-b261-4b36-c028-9cc6bd77ea17",
        "colab": {
          "base_uri": "https://localhost:8080/"
        }
      },
      "outputs": [
        {
          "output_type": "execute_result",
          "data": {
            "text/plain": [
              "False"
            ]
          },
          "metadata": {},
          "execution_count": 9
        }
      ],
      "source": [
        "# Check\n",
        "makes_twenty(2,3)"
      ]
    },
    {
      "cell_type": "markdown",
      "metadata": {
        "id": "gU94wyM91kCs"
      },
      "source": [
        "# LEVEL 1 PROBLEMS"
      ]
    },
    {
      "cell_type": "markdown",
      "metadata": {
        "id": "8bxMF3eF1kCs"
      },
      "source": [
        "#### OLD MACDONALD: Write a function that capitalizes the first and fourth letters of a name\n",
        "     \n",
        "    old_macdonald('macdonald') --> MacDonald\n",
        "    \n",
        "Note: `'macdonald'.capitalize()` returns `'Macdonald'`"
      ]
    },
    {
      "cell_type": "code",
      "execution_count": 18,
      "metadata": {
        "collapsed": true,
        "id": "j3OlH5-L1kCs"
      },
      "outputs": [],
      "source": [
        "def old_macdonald(name):\n",
        "  new_name = []\n",
        "  for index, letter in enumerate(name):\n",
        "    if index == 0 or index == 3:\n",
        "      new_name.append(letter.upper())\n",
        "    else:\n",
        "      new_name.append(letter) \n",
        "  return ''.join(new_name)"
      ]
    },
    {
      "cell_type": "code",
      "execution_count": 19,
      "metadata": {
        "collapsed": true,
        "id": "2uN44_Sl1kCt",
        "outputId": "6193a406-594b-4ec0-9039-83029d5f6b16",
        "colab": {
          "base_uri": "https://localhost:8080/",
          "height": 35
        }
      },
      "outputs": [
        {
          "output_type": "execute_result",
          "data": {
            "text/plain": [
              "'MacDonald'"
            ],
            "application/vnd.google.colaboratory.intrinsic+json": {
              "type": "string"
            }
          },
          "metadata": {},
          "execution_count": 19
        }
      ],
      "source": [
        "# Check\n",
        "old_macdonald('macdonald')"
      ]
    },
    {
      "cell_type": "markdown",
      "metadata": {
        "id": "BX8Ctknp1kCt"
      },
      "source": [
        "#### MASTER YODA: Given a sentence, return a sentence with the words reversed\n",
        "\n",
        "    master_yoda('I am home') --> 'home am I'\n",
        "    master_yoda('We are ready') --> 'ready are We'\n",
        "    \n",
        "Note: The .join() method may be useful here. The .join() method allows you to join together strings in a list with some connector string. For example, some uses of the .join() method:\n",
        "\n",
        "    >>> \"--\".join(['a','b','c'])\n",
        "    >>> 'a--b--c'\n",
        "\n",
        "This means if you had a list of words you wanted to turn back into a sentence, you could just join them with a single space string:\n",
        "\n",
        "    >>> \" \".join(['Hello','world'])\n",
        "    >>> \"Hello world\""
      ]
    },
    {
      "cell_type": "code",
      "execution_count": 20,
      "metadata": {
        "collapsed": true,
        "id": "b1y7YbJ11kCt"
      },
      "outputs": [],
      "source": [
        "def master_yoda(text):\n",
        "  words_list = text.split(\" \")\n",
        "  reversed_list = words_list[::-1]\n",
        "  return \" \".join(reversed_list)"
      ]
    },
    {
      "cell_type": "code",
      "execution_count": 21,
      "metadata": {
        "collapsed": true,
        "id": "jBdXIIRL1kCt",
        "outputId": "67529a91-307e-445c-d778-958768e13d8b",
        "colab": {
          "base_uri": "https://localhost:8080/",
          "height": 35
        }
      },
      "outputs": [
        {
          "output_type": "execute_result",
          "data": {
            "text/plain": [
              "'home am I'"
            ],
            "application/vnd.google.colaboratory.intrinsic+json": {
              "type": "string"
            }
          },
          "metadata": {},
          "execution_count": 21
        }
      ],
      "source": [
        "# Check\n",
        "master_yoda('I am home')"
      ]
    },
    {
      "cell_type": "code",
      "execution_count": 22,
      "metadata": {
        "collapsed": true,
        "id": "b1MCXYTn1kCt",
        "outputId": "da2191ac-6f16-4199-ffd8-609a3c75ba7e",
        "colab": {
          "base_uri": "https://localhost:8080/",
          "height": 35
        }
      },
      "outputs": [
        {
          "output_type": "execute_result",
          "data": {
            "text/plain": [
              "'ready are We'"
            ],
            "application/vnd.google.colaboratory.intrinsic+json": {
              "type": "string"
            }
          },
          "metadata": {},
          "execution_count": 22
        }
      ],
      "source": [
        "# Check\n",
        "master_yoda('We are ready')"
      ]
    },
    {
      "cell_type": "markdown",
      "metadata": {
        "id": "HwDF30W_1kCt"
      },
      "source": [
        "#### ALMOST THERE: Given an integer n, return True if n is within 10 of either 100 or 200\n",
        "\n",
        "    almost_there(90) --> True\n",
        "    almost_there(104) --> True\n",
        "    almost_there(150) --> False\n",
        "    almost_there(209) --> True\n",
        "    \n",
        "NOTE: `abs(num)` returns the absolute value of a number"
      ]
    },
    {
      "cell_type": "code",
      "execution_count": 26,
      "metadata": {
        "collapsed": true,
        "id": "1aebcQVT1kCu"
      },
      "outputs": [],
      "source": [
        "def almost_there(n):\n",
        "  if (n >= 90 and n <= 110) or (n >= 190 and n <= 210):\n",
        "    return True\n",
        "  else:\n",
        "    return False"
      ]
    },
    {
      "cell_type": "code",
      "execution_count": 27,
      "metadata": {
        "collapsed": true,
        "id": "kLJTNCSz1kCu",
        "outputId": "910a83e8-b438-499a-e0b9-18493003072b",
        "colab": {
          "base_uri": "https://localhost:8080/"
        }
      },
      "outputs": [
        {
          "output_type": "execute_result",
          "data": {
            "text/plain": [
              "True"
            ]
          },
          "metadata": {},
          "execution_count": 27
        }
      ],
      "source": [
        "# Check\n",
        "almost_there(104)"
      ]
    },
    {
      "cell_type": "code",
      "execution_count": 28,
      "metadata": {
        "collapsed": true,
        "id": "LPbC2s3M1kCu",
        "outputId": "7e16d250-0b9d-4b44-c1e3-1aae7b8e1c4a",
        "colab": {
          "base_uri": "https://localhost:8080/"
        }
      },
      "outputs": [
        {
          "output_type": "execute_result",
          "data": {
            "text/plain": [
              "False"
            ]
          },
          "metadata": {},
          "execution_count": 28
        }
      ],
      "source": [
        "# Check\n",
        "almost_there(150)"
      ]
    },
    {
      "cell_type": "code",
      "execution_count": 29,
      "metadata": {
        "collapsed": true,
        "id": "9pUWK7no1kCu",
        "outputId": "bf5ccb33-a059-4004-f432-4516639ce16d",
        "colab": {
          "base_uri": "https://localhost:8080/"
        }
      },
      "outputs": [
        {
          "output_type": "execute_result",
          "data": {
            "text/plain": [
              "True"
            ]
          },
          "metadata": {},
          "execution_count": 29
        }
      ],
      "source": [
        "# Check\n",
        "almost_there(209)"
      ]
    },
    {
      "cell_type": "markdown",
      "metadata": {
        "id": "3SyWLNcq1kCu"
      },
      "source": [
        "# LEVEL 2 PROBLEMS"
      ]
    },
    {
      "cell_type": "markdown",
      "metadata": {
        "id": "rl4SLLbu1kCu"
      },
      "source": [
        "#### FIND 33: \n",
        "\n",
        "Given a list of ints, return True if the array contains a 3 next to a 3 somewhere.\n",
        "\n",
        "    has_33([1, 3, 3]) → True\n",
        "    has_33([1, 3, 1, 3]) → False\n",
        "    has_33([3, 1, 3]) → False"
      ]
    },
    {
      "cell_type": "code",
      "execution_count": 42,
      "metadata": {
        "collapsed": true,
        "id": "3DM68WeW1kCu"
      },
      "outputs": [],
      "source": [
        "def has_33(nums):\n",
        "  check_log = False\n",
        "  for index in range(len(nums)):\n",
        "    if nums[index] == 3 and index < len(nums)-1: #Second part is used to check that we are not on the last number of the list.\n",
        "      if nums[index + 1] == 3: #If not last number of list, run check on next number in list.\n",
        "        check_log = True\n",
        "  return check_log"
      ]
    },
    {
      "cell_type": "code",
      "execution_count": 39,
      "metadata": {
        "collapsed": true,
        "id": "bzm2pVGz1kCv",
        "outputId": "96cb2306-77f1-4d3d-8c27-1175b7cb0c05",
        "colab": {
          "base_uri": "https://localhost:8080/"
        }
      },
      "outputs": [
        {
          "output_type": "execute_result",
          "data": {
            "text/plain": [
              "True"
            ]
          },
          "metadata": {},
          "execution_count": 39
        }
      ],
      "source": [
        "# Check\n",
        "has_33([1, 3, 3])"
      ]
    },
    {
      "cell_type": "code",
      "execution_count": 40,
      "metadata": {
        "collapsed": true,
        "id": "53IT7rPP1kCv",
        "outputId": "b96a5e46-bef6-4739-84e0-0c3de1c8bebd",
        "colab": {
          "base_uri": "https://localhost:8080/"
        }
      },
      "outputs": [
        {
          "output_type": "execute_result",
          "data": {
            "text/plain": [
              "False"
            ]
          },
          "metadata": {},
          "execution_count": 40
        }
      ],
      "source": [
        "# Check\n",
        "has_33([1, 3, 1, 3])"
      ]
    },
    {
      "cell_type": "code",
      "execution_count": 41,
      "metadata": {
        "collapsed": true,
        "id": "dvp5FkGK1kCv",
        "outputId": "8cb1b9bb-c55e-4ed0-987d-e18d186341e0",
        "colab": {
          "base_uri": "https://localhost:8080/"
        }
      },
      "outputs": [
        {
          "output_type": "execute_result",
          "data": {
            "text/plain": [
              "False"
            ]
          },
          "metadata": {},
          "execution_count": 41
        }
      ],
      "source": [
        "# Check\n",
        "has_33([3, 1, 3])"
      ]
    },
    {
      "cell_type": "markdown",
      "metadata": {
        "id": "0uDOri5R1kCv"
      },
      "source": [
        "#### PAPER DOLL: Given a string, return a string where for every character in the original there are three characters\n",
        "    paper_doll('Hello') --> 'HHHeeellllllooo'\n",
        "    paper_doll('Mississippi') --> 'MMMiiissssssiiippppppiii'"
      ]
    },
    {
      "cell_type": "code",
      "execution_count": 43,
      "metadata": {
        "collapsed": true,
        "id": "YBgdx77M1kCv"
      },
      "outputs": [],
      "source": [
        "def paper_doll(text):\n",
        "  new_text = ''\n",
        "  for letter in text:\n",
        "    for x in range(3):\n",
        "      new_text += letter\n",
        "  return new_text"
      ]
    },
    {
      "cell_type": "code",
      "execution_count": 44,
      "metadata": {
        "collapsed": true,
        "id": "NsuVl_Mx1kCv",
        "outputId": "c5057202-7e10-4ba7-f945-68e546656dd5",
        "colab": {
          "base_uri": "https://localhost:8080/",
          "height": 35
        }
      },
      "outputs": [
        {
          "output_type": "execute_result",
          "data": {
            "text/plain": [
              "'HHHeeellllllooo'"
            ],
            "application/vnd.google.colaboratory.intrinsic+json": {
              "type": "string"
            }
          },
          "metadata": {},
          "execution_count": 44
        }
      ],
      "source": [
        "# Check\n",
        "paper_doll('Hello')"
      ]
    },
    {
      "cell_type": "code",
      "execution_count": 45,
      "metadata": {
        "collapsed": true,
        "id": "-wYbMLP11kCv",
        "outputId": "c4d005da-e05b-4643-d961-28adaad5c42d",
        "colab": {
          "base_uri": "https://localhost:8080/",
          "height": 35
        }
      },
      "outputs": [
        {
          "output_type": "execute_result",
          "data": {
            "text/plain": [
              "'MMMiiissssssiiissssssiiippppppiii'"
            ],
            "application/vnd.google.colaboratory.intrinsic+json": {
              "type": "string"
            }
          },
          "metadata": {},
          "execution_count": 45
        }
      ],
      "source": [
        "# Check\n",
        "paper_doll('Mississippi')"
      ]
    },
    {
      "cell_type": "markdown",
      "metadata": {
        "id": "mNwpnmc_1kCv"
      },
      "source": [
        "#### BLACKJACK: Given three integers between 1 and 11, if their sum is less than or equal to 21, return their sum. If their sum exceeds 21 *and* there's an eleven, reduce the total sum by 10. Finally, if the sum (even after adjustment) exceeds 21, return 'BUST'\n",
        "    blackjack(5,6,7) --> 18\n",
        "    blackjack(9,9,9) --> 'BUST'\n",
        "    blackjack(9,9,11) --> 19"
      ]
    },
    {
      "cell_type": "code",
      "execution_count": 53,
      "metadata": {
        "collapsed": true,
        "id": "009JQQRQ1kC1"
      },
      "outputs": [],
      "source": [
        "def blackjack(a,b,c):\n",
        "  cards = [a,b,c]\n",
        "  total_val = sum(cards)\n",
        "  if total_val <= 21:\n",
        "    return total_val\n",
        "  elif 11 in cards and total_val - 10 <= 21:\n",
        "    total_val -= 10\n",
        "    return total_val\n",
        "  else:\n",
        "    return \"BUST\""
      ]
    },
    {
      "cell_type": "code",
      "execution_count": 54,
      "metadata": {
        "collapsed": true,
        "id": "wVRPHYI91kC1",
        "outputId": "f3d22a27-33ba-4dec-e565-86d849550403",
        "colab": {
          "base_uri": "https://localhost:8080/"
        }
      },
      "outputs": [
        {
          "output_type": "execute_result",
          "data": {
            "text/plain": [
              "18"
            ]
          },
          "metadata": {},
          "execution_count": 54
        }
      ],
      "source": [
        "# Check\n",
        "blackjack(5,6,7)"
      ]
    },
    {
      "cell_type": "code",
      "execution_count": 55,
      "metadata": {
        "collapsed": true,
        "id": "PX5se73E1kC1",
        "outputId": "82910bae-a22a-4cb0-babd-108bff2f0f12",
        "colab": {
          "base_uri": "https://localhost:8080/",
          "height": 35
        }
      },
      "outputs": [
        {
          "output_type": "execute_result",
          "data": {
            "text/plain": [
              "'BUST'"
            ],
            "application/vnd.google.colaboratory.intrinsic+json": {
              "type": "string"
            }
          },
          "metadata": {},
          "execution_count": 55
        }
      ],
      "source": [
        "# Check\n",
        "blackjack(9,9,9)"
      ]
    },
    {
      "cell_type": "code",
      "execution_count": 56,
      "metadata": {
        "collapsed": true,
        "id": "GD7tb-Ss1kC2",
        "outputId": "81fff367-a1b4-498f-821c-adc38019d83f",
        "colab": {
          "base_uri": "https://localhost:8080/"
        }
      },
      "outputs": [
        {
          "output_type": "execute_result",
          "data": {
            "text/plain": [
              "19"
            ]
          },
          "metadata": {},
          "execution_count": 56
        }
      ],
      "source": [
        "# Check\n",
        "blackjack(9,9,11)"
      ]
    },
    {
      "cell_type": "markdown",
      "metadata": {
        "id": "q7pyd7xw1kC2"
      },
      "source": [
        "#### SUMMER OF '69: Return the sum of the numbers in the array, except ignore sections of numbers starting with a 6 and extending to the next 9 (every 6 will be followed by at least one 9). Return 0 for no numbers.\n",
        " \n",
        "    summer_69([1, 3, 5]) --> 9\n",
        "    summer_69([4, 5, 6, 7, 8, 9]) --> 9\n",
        "    summer_69([2, 1, 6, 9, 11]) --> 14"
      ]
    },
    {
      "cell_type": "code",
      "execution_count": 77,
      "metadata": {
        "collapsed": true,
        "id": "j7Vdmxtk1kC2"
      },
      "outputs": [],
      "source": [
        "def summer_69(arr):\n",
        "  skip = False\n",
        "  sum = 0\n",
        "  for num in arr:\n",
        "    print(f\"Num = {num}, Str[0] = {str(num)[0]}, sum = {sum}, Skip_state = {skip}\")\n",
        "    if str(num)[0] == '6':\n",
        "      skip = True\n",
        "\n",
        "    if not skip:\n",
        "      sum += num\n",
        "    elif str(num)[-1] == '9':\n",
        "      skip = False\n",
        "    \n",
        "  return sum"
      ]
    },
    {
      "cell_type": "code",
      "execution_count": 78,
      "metadata": {
        "collapsed": true,
        "id": "E5HtZA8A1kC2",
        "outputId": "13c04bac-b911-47a5-904b-1c715e584924",
        "colab": {
          "base_uri": "https://localhost:8080/"
        }
      },
      "outputs": [
        {
          "output_type": "stream",
          "name": "stdout",
          "text": [
            "Num = 1, Str[0] = 1, sum = 0, Skip_state = False\n",
            "Num = 3, Str[0] = 3, sum = 1, Skip_state = False\n",
            "Num = 5, Str[0] = 5, sum = 4, Skip_state = False\n"
          ]
        },
        {
          "output_type": "execute_result",
          "data": {
            "text/plain": [
              "9"
            ]
          },
          "metadata": {},
          "execution_count": 78
        }
      ],
      "source": [
        "# Check\n",
        "summer_69([1, 3, 5])"
      ]
    },
    {
      "cell_type": "code",
      "execution_count": 79,
      "metadata": {
        "collapsed": true,
        "id": "Bh9CCMxL1kC2",
        "outputId": "7eb545a9-68ab-4340-e2d2-ab2edebd6f88",
        "colab": {
          "base_uri": "https://localhost:8080/"
        }
      },
      "outputs": [
        {
          "output_type": "stream",
          "name": "stdout",
          "text": [
            "Num = 4, Str[0] = 4, sum = 0, Skip_state = False\n",
            "Num = 5, Str[0] = 5, sum = 4, Skip_state = False\n",
            "Num = 6, Str[0] = 6, sum = 9, Skip_state = False\n",
            "Num = 7, Str[0] = 7, sum = 9, Skip_state = True\n",
            "Num = 8, Str[0] = 8, sum = 9, Skip_state = True\n",
            "Num = 9, Str[0] = 9, sum = 9, Skip_state = True\n"
          ]
        },
        {
          "output_type": "execute_result",
          "data": {
            "text/plain": [
              "9"
            ]
          },
          "metadata": {},
          "execution_count": 79
        }
      ],
      "source": [
        "# Check\n",
        "summer_69([4, 5, 6, 7, 8, 9])"
      ]
    },
    {
      "cell_type": "code",
      "execution_count": 80,
      "metadata": {
        "collapsed": true,
        "id": "YDSXAD0b1kC2",
        "outputId": "eb8c85b4-c025-434e-f361-d43ef26e7129",
        "colab": {
          "base_uri": "https://localhost:8080/"
        }
      },
      "outputs": [
        {
          "output_type": "stream",
          "name": "stdout",
          "text": [
            "Num = 2, Str[0] = 2, sum = 0, Skip_state = False\n",
            "Num = 1, Str[0] = 1, sum = 2, Skip_state = False\n",
            "Num = 6, Str[0] = 6, sum = 3, Skip_state = False\n",
            "Num = 9, Str[0] = 9, sum = 3, Skip_state = True\n",
            "Num = 11, Str[0] = 1, sum = 3, Skip_state = False\n"
          ]
        },
        {
          "output_type": "execute_result",
          "data": {
            "text/plain": [
              "14"
            ]
          },
          "metadata": {},
          "execution_count": 80
        }
      ],
      "source": [
        "# Check\n",
        "summer_69([2, 1, 6, 9, 11])"
      ]
    },
    {
      "cell_type": "markdown",
      "metadata": {
        "id": "0BhwgXos1kC2"
      },
      "source": [
        "# CHALLENGING PROBLEMS"
      ]
    },
    {
      "cell_type": "markdown",
      "metadata": {
        "id": "je_yS9Z-1kC2"
      },
      "source": [
        "#### SPY GAME: Write a function that takes in a list of integers and returns True if it contains 007 in order\n",
        "\n",
        "     spy_game([1,2,4,0,0,7,5]) --> True\n",
        "     spy_game([1,0,2,4,0,5,7]) --> True\n",
        "     spy_game([1,7,2,0,4,5,0]) --> False\n"
      ]
    },
    {
      "cell_type": "code",
      "execution_count": 87,
      "metadata": {
        "collapsed": true,
        "id": "nJEQvhm_1kC3"
      },
      "outputs": [],
      "source": [
        "def spy_game(nums):\n",
        "  correct_order = False\n",
        "  ordered_int = [zero_or_seven for zero_or_seven in nums if zero_or_seven == 0 or zero_or_seven == 7] #List Comprehension that functions like the for loop below.\n",
        "  # for _ in nums:\n",
        "  #   if _ == 0 or _ == 7:\n",
        "  #     ordered_int.append(_)\n",
        "  \n",
        "  for index in range(len(ordered_int)):\n",
        "    if index + 2 <= len(ordered_int)-1:\n",
        "      if ordered_int[index] == 0 and ordered_int[index+1] == 0 and ordered_int[index+2] == 7:\n",
        "        correct_order = True\n",
        "  \n",
        "  return correct_order"
      ]
    },
    {
      "cell_type": "code",
      "execution_count": 88,
      "metadata": {
        "collapsed": true,
        "id": "23JyFCMk1kC3",
        "outputId": "7df8c28e-caeb-4338-d79a-9887da81ea42",
        "colab": {
          "base_uri": "https://localhost:8080/"
        }
      },
      "outputs": [
        {
          "output_type": "execute_result",
          "data": {
            "text/plain": [
              "True"
            ]
          },
          "metadata": {},
          "execution_count": 88
        }
      ],
      "source": [
        "# Check\n",
        "spy_game([1,2,4,0,0,7,5])"
      ]
    },
    {
      "cell_type": "code",
      "execution_count": 89,
      "metadata": {
        "collapsed": true,
        "id": "e20HT8DX1kC3",
        "outputId": "0af8f61d-da44-41e9-9d13-e7979bc0d7f8",
        "colab": {
          "base_uri": "https://localhost:8080/"
        }
      },
      "outputs": [
        {
          "output_type": "execute_result",
          "data": {
            "text/plain": [
              "True"
            ]
          },
          "metadata": {},
          "execution_count": 89
        }
      ],
      "source": [
        "# Check\n",
        "spy_game([1,0,2,4,0,5,7])"
      ]
    },
    {
      "cell_type": "code",
      "execution_count": 90,
      "metadata": {
        "collapsed": true,
        "id": "4ttKbHpD1kC3",
        "outputId": "5631d56a-7bd8-4a50-876a-37deb5f5c372",
        "colab": {
          "base_uri": "https://localhost:8080/"
        }
      },
      "outputs": [
        {
          "output_type": "execute_result",
          "data": {
            "text/plain": [
              "False"
            ]
          },
          "metadata": {},
          "execution_count": 90
        }
      ],
      "source": [
        "# Check\n",
        "spy_game([1,7,2,0,4,5,0])"
      ]
    },
    {
      "cell_type": "markdown",
      "metadata": {
        "id": "Rk-H9G8h1kC3"
      },
      "source": [
        "#### COUNT PRIMES: Write a function that returns the *number* of prime numbers that exist up to and including a given number\n",
        "    count_primes(100) --> 25\n",
        "\n",
        "By convention, 0 and 1 are not prime."
      ]
    },
    {
      "cell_type": "code",
      "execution_count": 101,
      "metadata": {
        "collapsed": true,
        "id": "9AWFw2RZ1kC3"
      },
      "outputs": [],
      "source": [
        "def count_primes(num):\n",
        "  no_of_primes = 0\n",
        "\n",
        "  for value in range(2,num): \n",
        "    prime_number = True\n",
        "    for division in range(2,value): #Division will never be value because of how the range function works.\n",
        "      if value%division == 0: \n",
        "        prime_number = False\n",
        "    \n",
        "    if prime_number:\n",
        "      no_of_primes += 1\n",
        "      print(f\"The number {value} is a prime number.\")\n",
        "    else:\n",
        "      print(f\"The number {value} is not a prime number.\")\n",
        "\n",
        "  return no_of_primes"
      ]
    },
    {
      "cell_type": "code",
      "execution_count": 103,
      "metadata": {
        "collapsed": true,
        "id": "uT4QVeiM1kC3",
        "outputId": "4158ea4b-cb26-49b2-a321-53438af9a68a",
        "colab": {
          "base_uri": "https://localhost:8080/"
        }
      },
      "outputs": [
        {
          "output_type": "stream",
          "name": "stdout",
          "text": [
            "The number 2 is a prime number.\n",
            "The number 3 is a prime number.\n",
            "The number 4 is not a prime number.\n",
            "The number 5 is a prime number.\n",
            "The number 6 is not a prime number.\n",
            "The number 7 is a prime number.\n",
            "The number 8 is not a prime number.\n",
            "The number 9 is not a prime number.\n",
            "The number 10 is not a prime number.\n",
            "The number 11 is a prime number.\n",
            "The number 12 is not a prime number.\n",
            "The number 13 is a prime number.\n",
            "The number 14 is not a prime number.\n",
            "The number 15 is not a prime number.\n",
            "The number 16 is not a prime number.\n",
            "The number 17 is a prime number.\n",
            "The number 18 is not a prime number.\n",
            "The number 19 is a prime number.\n",
            "The number 20 is not a prime number.\n",
            "The number 21 is not a prime number.\n",
            "The number 22 is not a prime number.\n",
            "The number 23 is a prime number.\n",
            "The number 24 is not a prime number.\n",
            "The number 25 is not a prime number.\n",
            "The number 26 is not a prime number.\n",
            "The number 27 is not a prime number.\n",
            "The number 28 is not a prime number.\n",
            "The number 29 is a prime number.\n",
            "The number 30 is not a prime number.\n",
            "The number 31 is a prime number.\n",
            "The number 32 is not a prime number.\n",
            "The number 33 is not a prime number.\n",
            "The number 34 is not a prime number.\n",
            "The number 35 is not a prime number.\n",
            "The number 36 is not a prime number.\n",
            "The number 37 is a prime number.\n",
            "The number 38 is not a prime number.\n",
            "The number 39 is not a prime number.\n",
            "The number 40 is not a prime number.\n",
            "The number 41 is a prime number.\n",
            "The number 42 is not a prime number.\n",
            "The number 43 is a prime number.\n",
            "The number 44 is not a prime number.\n",
            "The number 45 is not a prime number.\n",
            "The number 46 is not a prime number.\n",
            "The number 47 is a prime number.\n",
            "The number 48 is not a prime number.\n",
            "The number 49 is not a prime number.\n",
            "The number 50 is not a prime number.\n",
            "The number 51 is not a prime number.\n",
            "The number 52 is not a prime number.\n",
            "The number 53 is a prime number.\n",
            "The number 54 is not a prime number.\n",
            "The number 55 is not a prime number.\n",
            "The number 56 is not a prime number.\n",
            "The number 57 is not a prime number.\n",
            "The number 58 is not a prime number.\n",
            "The number 59 is a prime number.\n",
            "The number 60 is not a prime number.\n",
            "The number 61 is a prime number.\n",
            "The number 62 is not a prime number.\n",
            "The number 63 is not a prime number.\n",
            "The number 64 is not a prime number.\n",
            "The number 65 is not a prime number.\n",
            "The number 66 is not a prime number.\n",
            "The number 67 is a prime number.\n",
            "The number 68 is not a prime number.\n",
            "The number 69 is not a prime number.\n",
            "The number 70 is not a prime number.\n",
            "The number 71 is a prime number.\n",
            "The number 72 is not a prime number.\n",
            "The number 73 is a prime number.\n",
            "The number 74 is not a prime number.\n",
            "The number 75 is not a prime number.\n",
            "The number 76 is not a prime number.\n",
            "The number 77 is not a prime number.\n",
            "The number 78 is not a prime number.\n",
            "The number 79 is a prime number.\n",
            "The number 80 is not a prime number.\n",
            "The number 81 is not a prime number.\n",
            "The number 82 is not a prime number.\n",
            "The number 83 is a prime number.\n",
            "The number 84 is not a prime number.\n",
            "The number 85 is not a prime number.\n",
            "The number 86 is not a prime number.\n",
            "The number 87 is not a prime number.\n",
            "The number 88 is not a prime number.\n",
            "The number 89 is a prime number.\n",
            "The number 90 is not a prime number.\n",
            "The number 91 is not a prime number.\n",
            "The number 92 is not a prime number.\n",
            "The number 93 is not a prime number.\n",
            "The number 94 is not a prime number.\n",
            "The number 95 is not a prime number.\n",
            "The number 96 is not a prime number.\n",
            "The number 97 is a prime number.\n",
            "The number 98 is not a prime number.\n",
            "The number 99 is not a prime number.\n",
            "The number 100 is not a prime number.\n",
            "The number 101 is a prime number.\n",
            "The number 102 is not a prime number.\n",
            "The number 103 is a prime number.\n",
            "The number 104 is not a prime number.\n",
            "The number 105 is not a prime number.\n",
            "The number 106 is not a prime number.\n",
            "The number 107 is a prime number.\n",
            "The number 108 is not a prime number.\n",
            "The number 109 is a prime number.\n",
            "The number 110 is not a prime number.\n",
            "The number 111 is not a prime number.\n",
            "The number 112 is not a prime number.\n",
            "The number 113 is a prime number.\n",
            "The number 114 is not a prime number.\n",
            "The number 115 is not a prime number.\n",
            "The number 116 is not a prime number.\n",
            "The number 117 is not a prime number.\n",
            "The number 118 is not a prime number.\n",
            "The number 119 is not a prime number.\n",
            "The number 120 is not a prime number.\n",
            "The number 121 is not a prime number.\n",
            "The number 122 is not a prime number.\n",
            "The number 123 is not a prime number.\n",
            "The number 124 is not a prime number.\n",
            "The number 125 is not a prime number.\n",
            "The number 126 is not a prime number.\n",
            "The number 127 is a prime number.\n",
            "The number 128 is not a prime number.\n",
            "The number 129 is not a prime number.\n",
            "The number 130 is not a prime number.\n",
            "The number 131 is a prime number.\n",
            "The number 132 is not a prime number.\n",
            "The number 133 is not a prime number.\n",
            "The number 134 is not a prime number.\n",
            "The number 135 is not a prime number.\n",
            "The number 136 is not a prime number.\n",
            "The number 137 is a prime number.\n",
            "The number 138 is not a prime number.\n",
            "The number 139 is a prime number.\n",
            "The number 140 is not a prime number.\n",
            "The number 141 is not a prime number.\n",
            "The number 142 is not a prime number.\n",
            "The number 143 is not a prime number.\n",
            "The number 144 is not a prime number.\n",
            "The number 145 is not a prime number.\n",
            "The number 146 is not a prime number.\n",
            "The number 147 is not a prime number.\n",
            "The number 148 is not a prime number.\n",
            "The number 149 is a prime number.\n",
            "The number 150 is not a prime number.\n",
            "The number 151 is a prime number.\n",
            "The number 152 is not a prime number.\n",
            "The number 153 is not a prime number.\n",
            "The number 154 is not a prime number.\n",
            "The number 155 is not a prime number.\n",
            "The number 156 is not a prime number.\n",
            "The number 157 is a prime number.\n",
            "The number 158 is not a prime number.\n",
            "The number 159 is not a prime number.\n",
            "The number 160 is not a prime number.\n",
            "The number 161 is not a prime number.\n",
            "The number 162 is not a prime number.\n",
            "The number 163 is a prime number.\n",
            "The number 164 is not a prime number.\n",
            "The number 165 is not a prime number.\n",
            "The number 166 is not a prime number.\n",
            "The number 167 is a prime number.\n",
            "The number 168 is not a prime number.\n",
            "The number 169 is not a prime number.\n",
            "The number 170 is not a prime number.\n",
            "The number 171 is not a prime number.\n",
            "The number 172 is not a prime number.\n",
            "The number 173 is a prime number.\n",
            "The number 174 is not a prime number.\n",
            "The number 175 is not a prime number.\n",
            "The number 176 is not a prime number.\n",
            "The number 177 is not a prime number.\n",
            "The number 178 is not a prime number.\n",
            "The number 179 is a prime number.\n",
            "The number 180 is not a prime number.\n",
            "The number 181 is a prime number.\n",
            "The number 182 is not a prime number.\n",
            "The number 183 is not a prime number.\n",
            "The number 184 is not a prime number.\n",
            "The number 185 is not a prime number.\n",
            "The number 186 is not a prime number.\n",
            "The number 187 is not a prime number.\n",
            "The number 188 is not a prime number.\n",
            "The number 189 is not a prime number.\n",
            "The number 190 is not a prime number.\n",
            "The number 191 is a prime number.\n",
            "The number 192 is not a prime number.\n",
            "The number 193 is a prime number.\n",
            "The number 194 is not a prime number.\n",
            "The number 195 is not a prime number.\n",
            "The number 196 is not a prime number.\n",
            "The number 197 is a prime number.\n",
            "The number 198 is not a prime number.\n",
            "The number 199 is a prime number.\n",
            "The number 200 is not a prime number.\n",
            "The number 201 is not a prime number.\n",
            "The number 202 is not a prime number.\n",
            "The number 203 is not a prime number.\n",
            "The number 204 is not a prime number.\n",
            "The number 205 is not a prime number.\n",
            "The number 206 is not a prime number.\n",
            "The number 207 is not a prime number.\n",
            "The number 208 is not a prime number.\n",
            "The number 209 is not a prime number.\n",
            "The number 210 is not a prime number.\n",
            "The number 211 is a prime number.\n",
            "The number 212 is not a prime number.\n",
            "The number 213 is not a prime number.\n",
            "The number 214 is not a prime number.\n",
            "The number 215 is not a prime number.\n",
            "The number 216 is not a prime number.\n",
            "The number 217 is not a prime number.\n",
            "The number 218 is not a prime number.\n",
            "The number 219 is not a prime number.\n",
            "The number 220 is not a prime number.\n",
            "The number 221 is not a prime number.\n",
            "The number 222 is not a prime number.\n",
            "The number 223 is a prime number.\n",
            "The number 224 is not a prime number.\n",
            "The number 225 is not a prime number.\n",
            "The number 226 is not a prime number.\n",
            "The number 227 is a prime number.\n",
            "The number 228 is not a prime number.\n",
            "The number 229 is a prime number.\n",
            "The number 230 is not a prime number.\n",
            "The number 231 is not a prime number.\n",
            "The number 232 is not a prime number.\n",
            "The number 233 is a prime number.\n",
            "The number 234 is not a prime number.\n",
            "The number 235 is not a prime number.\n",
            "The number 236 is not a prime number.\n",
            "The number 237 is not a prime number.\n",
            "The number 238 is not a prime number.\n",
            "The number 239 is a prime number.\n",
            "The number 240 is not a prime number.\n",
            "The number 241 is a prime number.\n",
            "The number 242 is not a prime number.\n",
            "The number 243 is not a prime number.\n",
            "The number 244 is not a prime number.\n",
            "The number 245 is not a prime number.\n",
            "The number 246 is not a prime number.\n",
            "The number 247 is not a prime number.\n",
            "The number 248 is not a prime number.\n",
            "The number 249 is not a prime number.\n",
            "The number 250 is not a prime number.\n",
            "The number 251 is a prime number.\n",
            "The number 252 is not a prime number.\n",
            "The number 253 is not a prime number.\n",
            "The number 254 is not a prime number.\n",
            "The number 255 is not a prime number.\n",
            "The number 256 is not a prime number.\n",
            "The number 257 is a prime number.\n",
            "The number 258 is not a prime number.\n",
            "The number 259 is not a prime number.\n",
            "The number 260 is not a prime number.\n",
            "The number 261 is not a prime number.\n",
            "The number 262 is not a prime number.\n",
            "The number 263 is a prime number.\n",
            "The number 264 is not a prime number.\n",
            "The number 265 is not a prime number.\n",
            "The number 266 is not a prime number.\n",
            "The number 267 is not a prime number.\n",
            "The number 268 is not a prime number.\n",
            "The number 269 is a prime number.\n",
            "The number 270 is not a prime number.\n",
            "The number 271 is a prime number.\n",
            "The number 272 is not a prime number.\n",
            "The number 273 is not a prime number.\n",
            "The number 274 is not a prime number.\n",
            "The number 275 is not a prime number.\n",
            "The number 276 is not a prime number.\n",
            "The number 277 is a prime number.\n",
            "The number 278 is not a prime number.\n",
            "The number 279 is not a prime number.\n",
            "The number 280 is not a prime number.\n",
            "The number 281 is a prime number.\n",
            "The number 282 is not a prime number.\n",
            "The number 283 is a prime number.\n",
            "The number 284 is not a prime number.\n",
            "The number 285 is not a prime number.\n",
            "The number 286 is not a prime number.\n",
            "The number 287 is not a prime number.\n",
            "The number 288 is not a prime number.\n",
            "The number 289 is not a prime number.\n",
            "The number 290 is not a prime number.\n",
            "The number 291 is not a prime number.\n",
            "The number 292 is not a prime number.\n",
            "The number 293 is a prime number.\n",
            "The number 294 is not a prime number.\n",
            "The number 295 is not a prime number.\n",
            "The number 296 is not a prime number.\n",
            "The number 297 is not a prime number.\n",
            "The number 298 is not a prime number.\n",
            "The number 299 is not a prime number.\n",
            "The number 300 is not a prime number.\n",
            "The number 301 is not a prime number.\n",
            "The number 302 is not a prime number.\n",
            "The number 303 is not a prime number.\n",
            "The number 304 is not a prime number.\n",
            "The number 305 is not a prime number.\n",
            "The number 306 is not a prime number.\n",
            "The number 307 is a prime number.\n",
            "The number 308 is not a prime number.\n",
            "The number 309 is not a prime number.\n",
            "The number 310 is not a prime number.\n",
            "The number 311 is a prime number.\n",
            "The number 312 is not a prime number.\n",
            "The number 313 is a prime number.\n",
            "The number 314 is not a prime number.\n",
            "The number 315 is not a prime number.\n",
            "The number 316 is not a prime number.\n",
            "The number 317 is a prime number.\n",
            "The number 318 is not a prime number.\n",
            "The number 319 is not a prime number.\n",
            "The number 320 is not a prime number.\n",
            "The number 321 is not a prime number.\n",
            "The number 322 is not a prime number.\n",
            "The number 323 is not a prime number.\n",
            "The number 324 is not a prime number.\n",
            "The number 325 is not a prime number.\n",
            "The number 326 is not a prime number.\n",
            "The number 327 is not a prime number.\n",
            "The number 328 is not a prime number.\n",
            "The number 329 is not a prime number.\n",
            "The number 330 is not a prime number.\n",
            "The number 331 is a prime number.\n",
            "The number 332 is not a prime number.\n",
            "The number 333 is not a prime number.\n",
            "The number 334 is not a prime number.\n",
            "The number 335 is not a prime number.\n",
            "The number 336 is not a prime number.\n",
            "The number 337 is a prime number.\n",
            "The number 338 is not a prime number.\n",
            "The number 339 is not a prime number.\n",
            "The number 340 is not a prime number.\n",
            "The number 341 is not a prime number.\n",
            "The number 342 is not a prime number.\n",
            "The number 343 is not a prime number.\n",
            "The number 344 is not a prime number.\n",
            "The number 345 is not a prime number.\n",
            "The number 346 is not a prime number.\n",
            "The number 347 is a prime number.\n",
            "The number 348 is not a prime number.\n",
            "The number 349 is a prime number.\n",
            "The number 350 is not a prime number.\n",
            "The number 351 is not a prime number.\n",
            "The number 352 is not a prime number.\n",
            "The number 353 is a prime number.\n",
            "The number 354 is not a prime number.\n",
            "The number 355 is not a prime number.\n",
            "The number 356 is not a prime number.\n",
            "The number 357 is not a prime number.\n",
            "The number 358 is not a prime number.\n",
            "The number 359 is a prime number.\n",
            "The number 360 is not a prime number.\n",
            "The number 361 is not a prime number.\n",
            "The number 362 is not a prime number.\n",
            "The number 363 is not a prime number.\n",
            "The number 364 is not a prime number.\n",
            "The number 365 is not a prime number.\n",
            "The number 366 is not a prime number.\n",
            "The number 367 is a prime number.\n",
            "The number 368 is not a prime number.\n",
            "The number 369 is not a prime number.\n",
            "The number 370 is not a prime number.\n",
            "The number 371 is not a prime number.\n",
            "The number 372 is not a prime number.\n",
            "The number 373 is a prime number.\n",
            "The number 374 is not a prime number.\n",
            "The number 375 is not a prime number.\n",
            "The number 376 is not a prime number.\n",
            "The number 377 is not a prime number.\n",
            "The number 378 is not a prime number.\n",
            "The number 379 is a prime number.\n",
            "The number 380 is not a prime number.\n",
            "The number 381 is not a prime number.\n",
            "The number 382 is not a prime number.\n",
            "The number 383 is a prime number.\n",
            "The number 384 is not a prime number.\n",
            "The number 385 is not a prime number.\n",
            "The number 386 is not a prime number.\n",
            "The number 387 is not a prime number.\n",
            "The number 388 is not a prime number.\n",
            "The number 389 is a prime number.\n",
            "The number 390 is not a prime number.\n",
            "The number 391 is not a prime number.\n",
            "The number 392 is not a prime number.\n",
            "The number 393 is not a prime number.\n",
            "The number 394 is not a prime number.\n",
            "The number 395 is not a prime number.\n",
            "The number 396 is not a prime number.\n",
            "The number 397 is a prime number.\n",
            "The number 398 is not a prime number.\n",
            "The number 399 is not a prime number.\n",
            "The number 400 is not a prime number.\n",
            "The number 401 is a prime number.\n",
            "The number 402 is not a prime number.\n",
            "The number 403 is not a prime number.\n",
            "The number 404 is not a prime number.\n",
            "The number 405 is not a prime number.\n",
            "The number 406 is not a prime number.\n",
            "The number 407 is not a prime number.\n",
            "The number 408 is not a prime number.\n",
            "The number 409 is a prime number.\n",
            "The number 410 is not a prime number.\n",
            "The number 411 is not a prime number.\n",
            "The number 412 is not a prime number.\n",
            "The number 413 is not a prime number.\n",
            "The number 414 is not a prime number.\n",
            "The number 415 is not a prime number.\n",
            "The number 416 is not a prime number.\n",
            "The number 417 is not a prime number.\n",
            "The number 418 is not a prime number.\n",
            "The number 419 is a prime number.\n",
            "The number 420 is not a prime number.\n",
            "The number 421 is a prime number.\n",
            "The number 422 is not a prime number.\n",
            "The number 423 is not a prime number.\n",
            "The number 424 is not a prime number.\n",
            "The number 425 is not a prime number.\n",
            "The number 426 is not a prime number.\n",
            "The number 427 is not a prime number.\n",
            "The number 428 is not a prime number.\n",
            "The number 429 is not a prime number.\n",
            "The number 430 is not a prime number.\n",
            "The number 431 is a prime number.\n",
            "The number 432 is not a prime number.\n",
            "The number 433 is a prime number.\n",
            "The number 434 is not a prime number.\n",
            "The number 435 is not a prime number.\n",
            "The number 436 is not a prime number.\n",
            "The number 437 is not a prime number.\n",
            "The number 438 is not a prime number.\n",
            "The number 439 is a prime number.\n",
            "The number 440 is not a prime number.\n",
            "The number 441 is not a prime number.\n",
            "The number 442 is not a prime number.\n",
            "The number 443 is a prime number.\n",
            "The number 444 is not a prime number.\n",
            "The number 445 is not a prime number.\n",
            "The number 446 is not a prime number.\n",
            "The number 447 is not a prime number.\n",
            "The number 448 is not a prime number.\n",
            "The number 449 is a prime number.\n",
            "The number 450 is not a prime number.\n",
            "The number 451 is not a prime number.\n",
            "The number 452 is not a prime number.\n",
            "The number 453 is not a prime number.\n",
            "The number 454 is not a prime number.\n",
            "The number 455 is not a prime number.\n",
            "The number 456 is not a prime number.\n",
            "The number 457 is a prime number.\n",
            "The number 458 is not a prime number.\n",
            "The number 459 is not a prime number.\n",
            "The number 460 is not a prime number.\n",
            "The number 461 is a prime number.\n",
            "The number 462 is not a prime number.\n",
            "The number 463 is a prime number.\n",
            "The number 464 is not a prime number.\n",
            "The number 465 is not a prime number.\n",
            "The number 466 is not a prime number.\n",
            "The number 467 is a prime number.\n",
            "The number 468 is not a prime number.\n",
            "The number 469 is not a prime number.\n",
            "The number 470 is not a prime number.\n",
            "The number 471 is not a prime number.\n",
            "The number 472 is not a prime number.\n",
            "The number 473 is not a prime number.\n",
            "The number 474 is not a prime number.\n",
            "The number 475 is not a prime number.\n",
            "The number 476 is not a prime number.\n",
            "The number 477 is not a prime number.\n",
            "The number 478 is not a prime number.\n",
            "The number 479 is a prime number.\n",
            "The number 480 is not a prime number.\n",
            "The number 481 is not a prime number.\n",
            "The number 482 is not a prime number.\n",
            "The number 483 is not a prime number.\n",
            "The number 484 is not a prime number.\n",
            "The number 485 is not a prime number.\n",
            "The number 486 is not a prime number.\n",
            "The number 487 is a prime number.\n",
            "The number 488 is not a prime number.\n",
            "The number 489 is not a prime number.\n",
            "The number 490 is not a prime number.\n",
            "The number 491 is a prime number.\n",
            "The number 492 is not a prime number.\n",
            "The number 493 is not a prime number.\n",
            "The number 494 is not a prime number.\n",
            "The number 495 is not a prime number.\n",
            "The number 496 is not a prime number.\n",
            "The number 497 is not a prime number.\n",
            "The number 498 is not a prime number.\n",
            "The number 499 is a prime number.\n",
            "The number 500 is not a prime number.\n",
            "The number 501 is not a prime number.\n",
            "The number 502 is not a prime number.\n",
            "The number 503 is a prime number.\n",
            "The number 504 is not a prime number.\n",
            "The number 505 is not a prime number.\n",
            "The number 506 is not a prime number.\n",
            "The number 507 is not a prime number.\n",
            "The number 508 is not a prime number.\n",
            "The number 509 is a prime number.\n",
            "The number 510 is not a prime number.\n",
            "The number 511 is not a prime number.\n",
            "The number 512 is not a prime number.\n",
            "The number 513 is not a prime number.\n",
            "The number 514 is not a prime number.\n",
            "The number 515 is not a prime number.\n",
            "The number 516 is not a prime number.\n",
            "The number 517 is not a prime number.\n",
            "The number 518 is not a prime number.\n",
            "The number 519 is not a prime number.\n",
            "The number 520 is not a prime number.\n",
            "The number 521 is a prime number.\n",
            "The number 522 is not a prime number.\n",
            "The number 523 is a prime number.\n",
            "The number 524 is not a prime number.\n",
            "The number 525 is not a prime number.\n",
            "The number 526 is not a prime number.\n",
            "The number 527 is not a prime number.\n",
            "The number 528 is not a prime number.\n",
            "The number 529 is not a prime number.\n",
            "The number 530 is not a prime number.\n",
            "The number 531 is not a prime number.\n",
            "The number 532 is not a prime number.\n",
            "The number 533 is not a prime number.\n",
            "The number 534 is not a prime number.\n",
            "The number 535 is not a prime number.\n",
            "The number 536 is not a prime number.\n",
            "The number 537 is not a prime number.\n",
            "The number 538 is not a prime number.\n",
            "The number 539 is not a prime number.\n",
            "The number 540 is not a prime number.\n",
            "The number 541 is a prime number.\n",
            "The number 542 is not a prime number.\n",
            "The number 543 is not a prime number.\n",
            "The number 544 is not a prime number.\n",
            "The number 545 is not a prime number.\n",
            "The number 546 is not a prime number.\n",
            "The number 547 is a prime number.\n",
            "The number 548 is not a prime number.\n",
            "The number 549 is not a prime number.\n",
            "The number 550 is not a prime number.\n",
            "The number 551 is not a prime number.\n",
            "The number 552 is not a prime number.\n",
            "The number 553 is not a prime number.\n",
            "The number 554 is not a prime number.\n",
            "The number 555 is not a prime number.\n",
            "The number 556 is not a prime number.\n",
            "The number 557 is a prime number.\n",
            "The number 558 is not a prime number.\n",
            "The number 559 is not a prime number.\n",
            "The number 560 is not a prime number.\n",
            "The number 561 is not a prime number.\n",
            "The number 562 is not a prime number.\n",
            "The number 563 is a prime number.\n",
            "The number 564 is not a prime number.\n",
            "The number 565 is not a prime number.\n",
            "The number 566 is not a prime number.\n",
            "The number 567 is not a prime number.\n",
            "The number 568 is not a prime number.\n",
            "The number 569 is a prime number.\n",
            "The number 570 is not a prime number.\n",
            "The number 571 is a prime number.\n",
            "The number 572 is not a prime number.\n",
            "The number 573 is not a prime number.\n",
            "The number 574 is not a prime number.\n",
            "The number 575 is not a prime number.\n",
            "The number 576 is not a prime number.\n",
            "The number 577 is a prime number.\n",
            "The number 578 is not a prime number.\n",
            "The number 579 is not a prime number.\n",
            "The number 580 is not a prime number.\n",
            "The number 581 is not a prime number.\n",
            "The number 582 is not a prime number.\n",
            "The number 583 is not a prime number.\n",
            "The number 584 is not a prime number.\n",
            "The number 585 is not a prime number.\n",
            "The number 586 is not a prime number.\n",
            "The number 587 is a prime number.\n",
            "The number 588 is not a prime number.\n",
            "The number 589 is not a prime number.\n",
            "The number 590 is not a prime number.\n",
            "The number 591 is not a prime number.\n",
            "The number 592 is not a prime number.\n",
            "The number 593 is a prime number.\n",
            "The number 594 is not a prime number.\n",
            "The number 595 is not a prime number.\n",
            "The number 596 is not a prime number.\n",
            "The number 597 is not a prime number.\n",
            "The number 598 is not a prime number.\n",
            "The number 599 is a prime number.\n",
            "The number 600 is not a prime number.\n",
            "The number 601 is a prime number.\n",
            "The number 602 is not a prime number.\n",
            "The number 603 is not a prime number.\n",
            "The number 604 is not a prime number.\n",
            "The number 605 is not a prime number.\n",
            "The number 606 is not a prime number.\n",
            "The number 607 is a prime number.\n",
            "The number 608 is not a prime number.\n",
            "The number 609 is not a prime number.\n",
            "The number 610 is not a prime number.\n",
            "The number 611 is not a prime number.\n",
            "The number 612 is not a prime number.\n",
            "The number 613 is a prime number.\n",
            "The number 614 is not a prime number.\n",
            "The number 615 is not a prime number.\n",
            "The number 616 is not a prime number.\n",
            "The number 617 is a prime number.\n",
            "The number 618 is not a prime number.\n",
            "The number 619 is a prime number.\n",
            "The number 620 is not a prime number.\n",
            "The number 621 is not a prime number.\n",
            "The number 622 is not a prime number.\n",
            "The number 623 is not a prime number.\n",
            "The number 624 is not a prime number.\n",
            "The number 625 is not a prime number.\n",
            "The number 626 is not a prime number.\n",
            "The number 627 is not a prime number.\n",
            "The number 628 is not a prime number.\n",
            "The number 629 is not a prime number.\n",
            "The number 630 is not a prime number.\n",
            "The number 631 is a prime number.\n",
            "The number 632 is not a prime number.\n",
            "The number 633 is not a prime number.\n",
            "The number 634 is not a prime number.\n",
            "The number 635 is not a prime number.\n",
            "The number 636 is not a prime number.\n",
            "The number 637 is not a prime number.\n",
            "The number 638 is not a prime number.\n",
            "The number 639 is not a prime number.\n",
            "The number 640 is not a prime number.\n",
            "The number 641 is a prime number.\n",
            "The number 642 is not a prime number.\n",
            "The number 643 is a prime number.\n",
            "The number 644 is not a prime number.\n",
            "The number 645 is not a prime number.\n",
            "The number 646 is not a prime number.\n",
            "The number 647 is a prime number.\n",
            "The number 648 is not a prime number.\n",
            "The number 649 is not a prime number.\n",
            "The number 650 is not a prime number.\n",
            "The number 651 is not a prime number.\n",
            "The number 652 is not a prime number.\n",
            "The number 653 is a prime number.\n",
            "The number 654 is not a prime number.\n",
            "The number 655 is not a prime number.\n",
            "The number 656 is not a prime number.\n",
            "The number 657 is not a prime number.\n",
            "The number 658 is not a prime number.\n",
            "The number 659 is a prime number.\n",
            "The number 660 is not a prime number.\n",
            "The number 661 is a prime number.\n",
            "The number 662 is not a prime number.\n",
            "The number 663 is not a prime number.\n",
            "The number 664 is not a prime number.\n",
            "The number 665 is not a prime number.\n",
            "The number 666 is not a prime number.\n",
            "The number 667 is not a prime number.\n",
            "The number 668 is not a prime number.\n",
            "The number 669 is not a prime number.\n",
            "The number 670 is not a prime number.\n",
            "The number 671 is not a prime number.\n",
            "The number 672 is not a prime number.\n",
            "The number 673 is a prime number.\n",
            "The number 674 is not a prime number.\n",
            "The number 675 is not a prime number.\n",
            "The number 676 is not a prime number.\n",
            "The number 677 is a prime number.\n",
            "The number 678 is not a prime number.\n",
            "The number 679 is not a prime number.\n",
            "The number 680 is not a prime number.\n",
            "The number 681 is not a prime number.\n",
            "The number 682 is not a prime number.\n",
            "The number 683 is a prime number.\n",
            "The number 684 is not a prime number.\n",
            "The number 685 is not a prime number.\n",
            "The number 686 is not a prime number.\n",
            "The number 687 is not a prime number.\n",
            "The number 688 is not a prime number.\n",
            "The number 689 is not a prime number.\n",
            "The number 690 is not a prime number.\n",
            "The number 691 is a prime number.\n",
            "The number 692 is not a prime number.\n",
            "The number 693 is not a prime number.\n",
            "The number 694 is not a prime number.\n",
            "The number 695 is not a prime number.\n",
            "The number 696 is not a prime number.\n",
            "The number 697 is not a prime number.\n",
            "The number 698 is not a prime number.\n",
            "The number 699 is not a prime number.\n",
            "The number 700 is not a prime number.\n",
            "The number 701 is a prime number.\n",
            "The number 702 is not a prime number.\n",
            "The number 703 is not a prime number.\n",
            "The number 704 is not a prime number.\n",
            "The number 705 is not a prime number.\n",
            "The number 706 is not a prime number.\n",
            "The number 707 is not a prime number.\n",
            "The number 708 is not a prime number.\n",
            "The number 709 is a prime number.\n",
            "The number 710 is not a prime number.\n",
            "The number 711 is not a prime number.\n",
            "The number 712 is not a prime number.\n",
            "The number 713 is not a prime number.\n",
            "The number 714 is not a prime number.\n",
            "The number 715 is not a prime number.\n",
            "The number 716 is not a prime number.\n",
            "The number 717 is not a prime number.\n",
            "The number 718 is not a prime number.\n",
            "The number 719 is a prime number.\n",
            "The number 720 is not a prime number.\n",
            "The number 721 is not a prime number.\n",
            "The number 722 is not a prime number.\n",
            "The number 723 is not a prime number.\n",
            "The number 724 is not a prime number.\n",
            "The number 725 is not a prime number.\n",
            "The number 726 is not a prime number.\n",
            "The number 727 is a prime number.\n",
            "The number 728 is not a prime number.\n",
            "The number 729 is not a prime number.\n",
            "The number 730 is not a prime number.\n",
            "The number 731 is not a prime number.\n",
            "The number 732 is not a prime number.\n",
            "The number 733 is a prime number.\n",
            "The number 734 is not a prime number.\n",
            "The number 735 is not a prime number.\n",
            "The number 736 is not a prime number.\n",
            "The number 737 is not a prime number.\n",
            "The number 738 is not a prime number.\n",
            "The number 739 is a prime number.\n",
            "The number 740 is not a prime number.\n",
            "The number 741 is not a prime number.\n",
            "The number 742 is not a prime number.\n",
            "The number 743 is a prime number.\n",
            "The number 744 is not a prime number.\n",
            "The number 745 is not a prime number.\n",
            "The number 746 is not a prime number.\n",
            "The number 747 is not a prime number.\n",
            "The number 748 is not a prime number.\n",
            "The number 749 is not a prime number.\n",
            "The number 750 is not a prime number.\n",
            "The number 751 is a prime number.\n",
            "The number 752 is not a prime number.\n",
            "The number 753 is not a prime number.\n",
            "The number 754 is not a prime number.\n",
            "The number 755 is not a prime number.\n",
            "The number 756 is not a prime number.\n",
            "The number 757 is a prime number.\n",
            "The number 758 is not a prime number.\n",
            "The number 759 is not a prime number.\n",
            "The number 760 is not a prime number.\n",
            "The number 761 is a prime number.\n",
            "The number 762 is not a prime number.\n",
            "The number 763 is not a prime number.\n",
            "The number 764 is not a prime number.\n",
            "The number 765 is not a prime number.\n",
            "The number 766 is not a prime number.\n",
            "The number 767 is not a prime number.\n",
            "The number 768 is not a prime number.\n",
            "The number 769 is a prime number.\n",
            "The number 770 is not a prime number.\n",
            "The number 771 is not a prime number.\n",
            "The number 772 is not a prime number.\n",
            "The number 773 is a prime number.\n",
            "The number 774 is not a prime number.\n",
            "The number 775 is not a prime number.\n",
            "The number 776 is not a prime number.\n",
            "The number 777 is not a prime number.\n",
            "The number 778 is not a prime number.\n",
            "The number 779 is not a prime number.\n",
            "The number 780 is not a prime number.\n",
            "The number 781 is not a prime number.\n",
            "The number 782 is not a prime number.\n",
            "The number 783 is not a prime number.\n",
            "The number 784 is not a prime number.\n",
            "The number 785 is not a prime number.\n",
            "The number 786 is not a prime number.\n",
            "The number 787 is a prime number.\n",
            "The number 788 is not a prime number.\n",
            "The number 789 is not a prime number.\n",
            "The number 790 is not a prime number.\n",
            "The number 791 is not a prime number.\n",
            "The number 792 is not a prime number.\n",
            "The number 793 is not a prime number.\n",
            "The number 794 is not a prime number.\n",
            "The number 795 is not a prime number.\n",
            "The number 796 is not a prime number.\n",
            "The number 797 is a prime number.\n",
            "The number 798 is not a prime number.\n",
            "The number 799 is not a prime number.\n",
            "The number 800 is not a prime number.\n",
            "The number 801 is not a prime number.\n",
            "The number 802 is not a prime number.\n",
            "The number 803 is not a prime number.\n",
            "The number 804 is not a prime number.\n",
            "The number 805 is not a prime number.\n",
            "The number 806 is not a prime number.\n",
            "The number 807 is not a prime number.\n",
            "The number 808 is not a prime number.\n",
            "The number 809 is a prime number.\n",
            "The number 810 is not a prime number.\n",
            "The number 811 is a prime number.\n",
            "The number 812 is not a prime number.\n",
            "The number 813 is not a prime number.\n",
            "The number 814 is not a prime number.\n",
            "The number 815 is not a prime number.\n",
            "The number 816 is not a prime number.\n",
            "The number 817 is not a prime number.\n",
            "The number 818 is not a prime number.\n",
            "The number 819 is not a prime number.\n",
            "The number 820 is not a prime number.\n",
            "The number 821 is a prime number.\n",
            "The number 822 is not a prime number.\n",
            "The number 823 is a prime number.\n",
            "The number 824 is not a prime number.\n",
            "The number 825 is not a prime number.\n",
            "The number 826 is not a prime number.\n",
            "The number 827 is a prime number.\n",
            "The number 828 is not a prime number.\n",
            "The number 829 is a prime number.\n",
            "The number 830 is not a prime number.\n",
            "The number 831 is not a prime number.\n",
            "The number 832 is not a prime number.\n",
            "The number 833 is not a prime number.\n",
            "The number 834 is not a prime number.\n",
            "The number 835 is not a prime number.\n",
            "The number 836 is not a prime number.\n",
            "The number 837 is not a prime number.\n",
            "The number 838 is not a prime number.\n",
            "The number 839 is a prime number.\n",
            "The number 840 is not a prime number.\n",
            "The number 841 is not a prime number.\n",
            "The number 842 is not a prime number.\n",
            "The number 843 is not a prime number.\n",
            "The number 844 is not a prime number.\n",
            "The number 845 is not a prime number.\n",
            "The number 846 is not a prime number.\n",
            "The number 847 is not a prime number.\n",
            "The number 848 is not a prime number.\n",
            "The number 849 is not a prime number.\n",
            "The number 850 is not a prime number.\n",
            "The number 851 is not a prime number.\n",
            "The number 852 is not a prime number.\n",
            "The number 853 is a prime number.\n",
            "The number 854 is not a prime number.\n",
            "The number 855 is not a prime number.\n",
            "The number 856 is not a prime number.\n",
            "The number 857 is a prime number.\n",
            "The number 858 is not a prime number.\n",
            "The number 859 is a prime number.\n",
            "The number 860 is not a prime number.\n",
            "The number 861 is not a prime number.\n",
            "The number 862 is not a prime number.\n",
            "The number 863 is a prime number.\n",
            "The number 864 is not a prime number.\n",
            "The number 865 is not a prime number.\n",
            "The number 866 is not a prime number.\n",
            "The number 867 is not a prime number.\n",
            "The number 868 is not a prime number.\n",
            "The number 869 is not a prime number.\n",
            "The number 870 is not a prime number.\n",
            "The number 871 is not a prime number.\n",
            "The number 872 is not a prime number.\n",
            "The number 873 is not a prime number.\n",
            "The number 874 is not a prime number.\n",
            "The number 875 is not a prime number.\n",
            "The number 876 is not a prime number.\n",
            "The number 877 is a prime number.\n",
            "The number 878 is not a prime number.\n",
            "The number 879 is not a prime number.\n",
            "The number 880 is not a prime number.\n",
            "The number 881 is a prime number.\n",
            "The number 882 is not a prime number.\n",
            "The number 883 is a prime number.\n",
            "The number 884 is not a prime number.\n",
            "The number 885 is not a prime number.\n",
            "The number 886 is not a prime number.\n",
            "The number 887 is a prime number.\n",
            "The number 888 is not a prime number.\n",
            "The number 889 is not a prime number.\n",
            "The number 890 is not a prime number.\n",
            "The number 891 is not a prime number.\n",
            "The number 892 is not a prime number.\n",
            "The number 893 is not a prime number.\n",
            "The number 894 is not a prime number.\n",
            "The number 895 is not a prime number.\n",
            "The number 896 is not a prime number.\n",
            "The number 897 is not a prime number.\n",
            "The number 898 is not a prime number.\n",
            "The number 899 is not a prime number.\n",
            "The number 900 is not a prime number.\n",
            "The number 901 is not a prime number.\n",
            "The number 902 is not a prime number.\n",
            "The number 903 is not a prime number.\n",
            "The number 904 is not a prime number.\n",
            "The number 905 is not a prime number.\n",
            "The number 906 is not a prime number.\n",
            "The number 907 is a prime number.\n",
            "The number 908 is not a prime number.\n",
            "The number 909 is not a prime number.\n",
            "The number 910 is not a prime number.\n",
            "The number 911 is a prime number.\n",
            "The number 912 is not a prime number.\n",
            "The number 913 is not a prime number.\n",
            "The number 914 is not a prime number.\n",
            "The number 915 is not a prime number.\n",
            "The number 916 is not a prime number.\n",
            "The number 917 is not a prime number.\n",
            "The number 918 is not a prime number.\n",
            "The number 919 is a prime number.\n",
            "The number 920 is not a prime number.\n",
            "The number 921 is not a prime number.\n",
            "The number 922 is not a prime number.\n",
            "The number 923 is not a prime number.\n",
            "The number 924 is not a prime number.\n",
            "The number 925 is not a prime number.\n",
            "The number 926 is not a prime number.\n",
            "The number 927 is not a prime number.\n",
            "The number 928 is not a prime number.\n",
            "The number 929 is a prime number.\n",
            "The number 930 is not a prime number.\n",
            "The number 931 is not a prime number.\n",
            "The number 932 is not a prime number.\n",
            "The number 933 is not a prime number.\n",
            "The number 934 is not a prime number.\n",
            "The number 935 is not a prime number.\n",
            "The number 936 is not a prime number.\n",
            "The number 937 is a prime number.\n",
            "The number 938 is not a prime number.\n",
            "The number 939 is not a prime number.\n",
            "The number 940 is not a prime number.\n",
            "The number 941 is a prime number.\n",
            "The number 942 is not a prime number.\n",
            "The number 943 is not a prime number.\n",
            "The number 944 is not a prime number.\n",
            "The number 945 is not a prime number.\n",
            "The number 946 is not a prime number.\n",
            "The number 947 is a prime number.\n",
            "The number 948 is not a prime number.\n",
            "The number 949 is not a prime number.\n",
            "The number 950 is not a prime number.\n",
            "The number 951 is not a prime number.\n",
            "The number 952 is not a prime number.\n",
            "The number 953 is a prime number.\n",
            "The number 954 is not a prime number.\n",
            "The number 955 is not a prime number.\n",
            "The number 956 is not a prime number.\n",
            "The number 957 is not a prime number.\n",
            "The number 958 is not a prime number.\n",
            "The number 959 is not a prime number.\n",
            "The number 960 is not a prime number.\n",
            "The number 961 is not a prime number.\n",
            "The number 962 is not a prime number.\n",
            "The number 963 is not a prime number.\n",
            "The number 964 is not a prime number.\n",
            "The number 965 is not a prime number.\n",
            "The number 966 is not a prime number.\n",
            "The number 967 is a prime number.\n",
            "The number 968 is not a prime number.\n",
            "The number 969 is not a prime number.\n",
            "The number 970 is not a prime number.\n",
            "The number 971 is a prime number.\n",
            "The number 972 is not a prime number.\n",
            "The number 973 is not a prime number.\n",
            "The number 974 is not a prime number.\n",
            "The number 975 is not a prime number.\n",
            "The number 976 is not a prime number.\n",
            "The number 977 is a prime number.\n",
            "The number 978 is not a prime number.\n",
            "The number 979 is not a prime number.\n",
            "The number 980 is not a prime number.\n",
            "The number 981 is not a prime number.\n",
            "The number 982 is not a prime number.\n",
            "The number 983 is a prime number.\n",
            "The number 984 is not a prime number.\n",
            "The number 985 is not a prime number.\n",
            "The number 986 is not a prime number.\n",
            "The number 987 is not a prime number.\n",
            "The number 988 is not a prime number.\n",
            "The number 989 is not a prime number.\n",
            "The number 990 is not a prime number.\n",
            "The number 991 is a prime number.\n",
            "The number 992 is not a prime number.\n",
            "The number 993 is not a prime number.\n",
            "The number 994 is not a prime number.\n",
            "The number 995 is not a prime number.\n",
            "The number 996 is not a prime number.\n",
            "The number 997 is a prime number.\n",
            "The number 998 is not a prime number.\n",
            "The number 999 is not a prime number.\n",
            "The number 1000 is not a prime number.\n",
            "The number 1001 is not a prime number.\n",
            "The number 1002 is not a prime number.\n",
            "The number 1003 is not a prime number.\n",
            "The number 1004 is not a prime number.\n",
            "The number 1005 is not a prime number.\n",
            "The number 1006 is not a prime number.\n",
            "The number 1007 is not a prime number.\n",
            "The number 1008 is not a prime number.\n",
            "The number 1009 is a prime number.\n",
            "The number 1010 is not a prime number.\n",
            "The number 1011 is not a prime number.\n",
            "The number 1012 is not a prime number.\n",
            "The number 1013 is a prime number.\n",
            "The number 1014 is not a prime number.\n",
            "The number 1015 is not a prime number.\n",
            "The number 1016 is not a prime number.\n",
            "The number 1017 is not a prime number.\n",
            "The number 1018 is not a prime number.\n",
            "The number 1019 is a prime number.\n",
            "The number 1020 is not a prime number.\n",
            "The number 1021 is a prime number.\n",
            "The number 1022 is not a prime number.\n",
            "The number 1023 is not a prime number.\n",
            "The number 1024 is not a prime number.\n",
            "The number 1025 is not a prime number.\n",
            "The number 1026 is not a prime number.\n",
            "The number 1027 is not a prime number.\n",
            "The number 1028 is not a prime number.\n",
            "The number 1029 is not a prime number.\n",
            "The number 1030 is not a prime number.\n",
            "The number 1031 is a prime number.\n",
            "The number 1032 is not a prime number.\n",
            "The number 1033 is a prime number.\n",
            "The number 1034 is not a prime number.\n",
            "The number 1035 is not a prime number.\n",
            "The number 1036 is not a prime number.\n",
            "The number 1037 is not a prime number.\n",
            "The number 1038 is not a prime number.\n",
            "The number 1039 is a prime number.\n",
            "The number 1040 is not a prime number.\n",
            "The number 1041 is not a prime number.\n",
            "The number 1042 is not a prime number.\n",
            "The number 1043 is not a prime number.\n",
            "The number 1044 is not a prime number.\n",
            "The number 1045 is not a prime number.\n",
            "The number 1046 is not a prime number.\n",
            "The number 1047 is not a prime number.\n",
            "The number 1048 is not a prime number.\n",
            "The number 1049 is a prime number.\n",
            "The number 1050 is not a prime number.\n",
            "The number 1051 is a prime number.\n",
            "The number 1052 is not a prime number.\n",
            "The number 1053 is not a prime number.\n",
            "The number 1054 is not a prime number.\n",
            "The number 1055 is not a prime number.\n",
            "The number 1056 is not a prime number.\n",
            "The number 1057 is not a prime number.\n",
            "The number 1058 is not a prime number.\n",
            "The number 1059 is not a prime number.\n",
            "The number 1060 is not a prime number.\n",
            "The number 1061 is a prime number.\n",
            "The number 1062 is not a prime number.\n",
            "The number 1063 is a prime number.\n",
            "The number 1064 is not a prime number.\n",
            "The number 1065 is not a prime number.\n",
            "The number 1066 is not a prime number.\n",
            "The number 1067 is not a prime number.\n",
            "The number 1068 is not a prime number.\n",
            "The number 1069 is a prime number.\n",
            "The number 1070 is not a prime number.\n",
            "The number 1071 is not a prime number.\n",
            "The number 1072 is not a prime number.\n",
            "The number 1073 is not a prime number.\n",
            "The number 1074 is not a prime number.\n",
            "The number 1075 is not a prime number.\n",
            "The number 1076 is not a prime number.\n",
            "The number 1077 is not a prime number.\n",
            "The number 1078 is not a prime number.\n",
            "The number 1079 is not a prime number.\n",
            "The number 1080 is not a prime number.\n",
            "The number 1081 is not a prime number.\n",
            "The number 1082 is not a prime number.\n",
            "The number 1083 is not a prime number.\n",
            "The number 1084 is not a prime number.\n",
            "The number 1085 is not a prime number.\n",
            "The number 1086 is not a prime number.\n",
            "The number 1087 is a prime number.\n",
            "The number 1088 is not a prime number.\n",
            "The number 1089 is not a prime number.\n",
            "The number 1090 is not a prime number.\n",
            "The number 1091 is a prime number.\n",
            "The number 1092 is not a prime number.\n",
            "The number 1093 is a prime number.\n",
            "The number 1094 is not a prime number.\n",
            "The number 1095 is not a prime number.\n",
            "The number 1096 is not a prime number.\n",
            "The number 1097 is a prime number.\n",
            "The number 1098 is not a prime number.\n",
            "The number 1099 is not a prime number.\n",
            "The number 1100 is not a prime number.\n",
            "The number 1101 is not a prime number.\n",
            "The number 1102 is not a prime number.\n",
            "The number 1103 is a prime number.\n",
            "The number 1104 is not a prime number.\n",
            "The number 1105 is not a prime number.\n",
            "The number 1106 is not a prime number.\n",
            "The number 1107 is not a prime number.\n",
            "The number 1108 is not a prime number.\n",
            "The number 1109 is a prime number.\n",
            "The number 1110 is not a prime number.\n",
            "The number 1111 is not a prime number.\n",
            "The number 1112 is not a prime number.\n",
            "The number 1113 is not a prime number.\n",
            "The number 1114 is not a prime number.\n",
            "The number 1115 is not a prime number.\n",
            "The number 1116 is not a prime number.\n",
            "The number 1117 is a prime number.\n",
            "The number 1118 is not a prime number.\n",
            "The number 1119 is not a prime number.\n",
            "The number 1120 is not a prime number.\n",
            "The number 1121 is not a prime number.\n",
            "The number 1122 is not a prime number.\n",
            "The number 1123 is a prime number.\n",
            "The number 1124 is not a prime number.\n",
            "The number 1125 is not a prime number.\n",
            "The number 1126 is not a prime number.\n",
            "The number 1127 is not a prime number.\n",
            "The number 1128 is not a prime number.\n",
            "The number 1129 is a prime number.\n",
            "The number 1130 is not a prime number.\n",
            "The number 1131 is not a prime number.\n",
            "The number 1132 is not a prime number.\n",
            "The number 1133 is not a prime number.\n",
            "The number 1134 is not a prime number.\n",
            "The number 1135 is not a prime number.\n",
            "The number 1136 is not a prime number.\n",
            "The number 1137 is not a prime number.\n",
            "The number 1138 is not a prime number.\n",
            "The number 1139 is not a prime number.\n",
            "The number 1140 is not a prime number.\n",
            "The number 1141 is not a prime number.\n",
            "The number 1142 is not a prime number.\n",
            "The number 1143 is not a prime number.\n",
            "The number 1144 is not a prime number.\n",
            "The number 1145 is not a prime number.\n",
            "The number 1146 is not a prime number.\n",
            "The number 1147 is not a prime number.\n",
            "The number 1148 is not a prime number.\n",
            "The number 1149 is not a prime number.\n",
            "The number 1150 is not a prime number.\n",
            "The number 1151 is a prime number.\n",
            "The number 1152 is not a prime number.\n",
            "The number 1153 is a prime number.\n",
            "The number 1154 is not a prime number.\n",
            "The number 1155 is not a prime number.\n",
            "The number 1156 is not a prime number.\n",
            "The number 1157 is not a prime number.\n",
            "The number 1158 is not a prime number.\n",
            "The number 1159 is not a prime number.\n",
            "The number 1160 is not a prime number.\n",
            "The number 1161 is not a prime number.\n",
            "The number 1162 is not a prime number.\n",
            "The number 1163 is a prime number.\n",
            "The number 1164 is not a prime number.\n",
            "The number 1165 is not a prime number.\n",
            "The number 1166 is not a prime number.\n",
            "The number 1167 is not a prime number.\n",
            "The number 1168 is not a prime number.\n",
            "The number 1169 is not a prime number.\n",
            "The number 1170 is not a prime number.\n",
            "The number 1171 is a prime number.\n",
            "The number 1172 is not a prime number.\n",
            "The number 1173 is not a prime number.\n",
            "The number 1174 is not a prime number.\n",
            "The number 1175 is not a prime number.\n",
            "The number 1176 is not a prime number.\n",
            "The number 1177 is not a prime number.\n",
            "The number 1178 is not a prime number.\n",
            "The number 1179 is not a prime number.\n",
            "The number 1180 is not a prime number.\n",
            "The number 1181 is a prime number.\n",
            "The number 1182 is not a prime number.\n",
            "The number 1183 is not a prime number.\n",
            "The number 1184 is not a prime number.\n",
            "The number 1185 is not a prime number.\n",
            "The number 1186 is not a prime number.\n",
            "The number 1187 is a prime number.\n",
            "The number 1188 is not a prime number.\n",
            "The number 1189 is not a prime number.\n",
            "The number 1190 is not a prime number.\n",
            "The number 1191 is not a prime number.\n",
            "The number 1192 is not a prime number.\n",
            "The number 1193 is a prime number.\n",
            "The number 1194 is not a prime number.\n",
            "The number 1195 is not a prime number.\n",
            "The number 1196 is not a prime number.\n",
            "The number 1197 is not a prime number.\n",
            "The number 1198 is not a prime number.\n",
            "The number 1199 is not a prime number.\n",
            "The number 1200 is not a prime number.\n",
            "The number 1201 is a prime number.\n",
            "The number 1202 is not a prime number.\n"
          ]
        },
        {
          "output_type": "execute_result",
          "data": {
            "text/plain": [
              "197"
            ]
          },
          "metadata": {},
          "execution_count": 103
        }
      ],
      "source": [
        "# Check\n",
        "count_primes(1203)"
      ]
    },
    {
      "cell_type": "markdown",
      "metadata": {
        "id": "9F-czu1r1kC4"
      },
      "source": [
        "### Just for fun:\n",
        "#### PRINT BIG: Write a function that takes in a single letter, and returns a 5x5 representation of that letter\n",
        "    print_big('a')\n",
        "    \n",
        "    out:   *  \n",
        "          * *\n",
        "         *****\n",
        "         *   *\n",
        "         *   *\n",
        "HINT: Consider making a dictionary of possible patterns, and mapping the alphabet to specific 5-line combinations of patterns. <br>For purposes of this exercise, it's ok if your dictionary stops at \"E\"."
      ]
    },
    {
      "cell_type": "code",
      "execution_count": 108,
      "metadata": {
        "collapsed": true,
        "id": "7ecQxQ-m1kC4"
      },
      "outputs": [],
      "source": [
        "def print_big(letter):\n",
        "  shapes = {'a' : \"\"\"          _____          \n",
        "         /\\    \\         \n",
        "        /::\\    \\        \n",
        "       /::::\\    \\       \n",
        "      /::::::\\    \\      \n",
        "     /:::/\\:::\\    \\     \n",
        "    /:::/__\\:::\\    \\    \n",
        "   /::::\\   \\:::\\    \\   \n",
        "  /::::::\\   \\:::\\    \\  \n",
        " /:::/\\:::\\   \\:::\\    \\ \n",
        "/:::/  \\:::\\   \\:::\\____\\\n",
        "\\::/    \\:::\\  /:::/    /\n",
        " \\/____/ \\:::\\/:::/    / \n",
        "          \\::::::/    /  \n",
        "           \\::::/    /   \n",
        "           /:::/    /    \n",
        "          /:::/    /     \n",
        "         /:::/    /      \n",
        "        /:::/    /       \n",
        "        \\::/    /        \n",
        "         \\/____/         \n",
        "                         \"\"\"}\n",
        "  print(shapes[letter.lower()])"
      ]
    },
    {
      "cell_type": "code",
      "execution_count": 109,
      "metadata": {
        "collapsed": true,
        "id": "wNIXhymA1kC4",
        "outputId": "d85fd548-8a48-48e5-b6f7-52e7f85c3f48",
        "colab": {
          "base_uri": "https://localhost:8080/"
        }
      },
      "outputs": [
        {
          "output_type": "stream",
          "name": "stdout",
          "text": [
            "          _____          \n",
            "         /\\    \\         \n",
            "        /::\\    \\        \n",
            "       /::::\\    \\       \n",
            "      /::::::\\    \\      \n",
            "     /:::/\\:::\\    \\     \n",
            "    /:::/__\\:::\\    \\    \n",
            "   /::::\\   \\:::\\    \\   \n",
            "  /::::::\\   \\:::\\    \\  \n",
            " /:::/\\:::\\   \\:::\\    \\ \n",
            "/:::/  \\:::\\   \\:::\\____\\::/    \\:::\\  /:::/    /\n",
            " \\/____/ \\:::\\/:::/    / \n",
            "          \\::::::/    /  \n",
            "           \\::::/    /   \n",
            "           /:::/    /    \n",
            "          /:::/    /     \n",
            "         /:::/    /      \n",
            "        /:::/    /       \n",
            "        \\::/    /        \n",
            "         \\/____/         \n",
            "                         \n"
          ]
        }
      ],
      "source": [
        "print_big('a')"
      ]
    },
    {
      "cell_type": "markdown",
      "metadata": {
        "id": "TSNHOSV71kC4"
      },
      "source": [
        "## Great Job!"
      ]
    }
  ],
  "metadata": {
    "kernelspec": {
      "display_name": "Python 3",
      "language": "python",
      "name": "python3"
    },
    "language_info": {
      "codemirror_mode": {
        "name": "ipython",
        "version": 3
      },
      "file_extension": ".py",
      "mimetype": "text/x-python",
      "name": "python",
      "nbconvert_exporter": "python",
      "pygments_lexer": "ipython3",
      "version": "3.6.6"
    },
    "colab": {
      "provenance": [],
      "include_colab_link": true
    }
  },
  "nbformat": 4,
  "nbformat_minor": 0
}